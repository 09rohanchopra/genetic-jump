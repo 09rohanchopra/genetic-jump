{
 "cells": [
  {
   "cell_type": "code",
   "execution_count": 24,
   "metadata": {},
   "outputs": [],
   "source": [
    "%matplotlib inline\n",
    "import numpy as np\n",
    "import matplotlib\n",
    "from matplotlib import pyplot as plt\n",
    "import os\n",
    "import pandas as pd\n",
    "\n",
    "import cv2\n",
    "\n",
    "from keras.models import Sequential\n",
    "from keras.optimizers import Adam, SGD\n",
    "from keras.callbacks import ModelCheckpoint\n",
    "from keras.constraints import maxnorm\n",
    "from keras.models import load_model\n",
    "from keras.layers import GlobalAveragePooling2D, Lambda, Conv2D, MaxPooling2D, Dropout, Dense, Flatten, Activation\n",
    "from keras.preprocessing.image import ImageDataGenerator"
   ]
  },
  {
   "cell_type": "code",
   "execution_count": 109,
   "metadata": {
    "collapsed": true
   },
   "outputs": [],
   "source": [
    "# Hight and width of the images\n",
    "IMAGE_WIDTH = 124\n",
    "IMAGE_HEIGHT = 20\n",
    "# 1 channel\n",
    "CHANNELS = 1\n",
    "# Number of epochs\n",
    "NUM_EPOCH = 15\n",
    "# learning rate\n",
    "LEARN_RATE = 1.0e-4"
   ]
  },
  {
   "cell_type": "code",
   "execution_count": 27,
   "metadata": {},
   "outputs": [
    {
     "data": {
      "text/plain": [
       "True"
      ]
     },
     "execution_count": 27,
     "metadata": {},
     "output_type": "execute_result"
    }
   ],
   "source": [
    "root_dir = os.path.abspath('../data')\n",
    "train_dir = os.path.join(root_dir, 'train')\n",
    "test_dir = os.path.join(root_dir, 'test')\n",
    "csv_file = 'keys.csv'\n",
    "# check for existence\n",
    "os.path.exists(train_dir)\n",
    "os.path.exists(test_dir)"
   ]
  },
  {
   "cell_type": "code",
   "execution_count": 28,
   "metadata": {},
   "outputs": [
    {
     "data": {
      "text/html": [
       "<div>\n",
       "<style>\n",
       "    .dataframe thead tr:only-child th {\n",
       "        text-align: right;\n",
       "    }\n",
       "\n",
       "    .dataframe thead th {\n",
       "        text-align: left;\n",
       "    }\n",
       "\n",
       "    .dataframe tbody tr th {\n",
       "        vertical-align: top;\n",
       "    }\n",
       "</style>\n",
       "<table border=\"1\" class=\"dataframe\">\n",
       "  <thead>\n",
       "    <tr style=\"text-align: right;\">\n",
       "      <th></th>\n",
       "      <th>up</th>\n",
       "      <th>down</th>\n",
       "      <th>image</th>\n",
       "    </tr>\n",
       "  </thead>\n",
       "  <tbody>\n",
       "    <tr>\n",
       "      <th>0</th>\n",
       "      <td>0</td>\n",
       "      <td>0</td>\n",
       "      <td>9</td>\n",
       "    </tr>\n",
       "    <tr>\n",
       "      <th>1</th>\n",
       "      <td>0</td>\n",
       "      <td>0</td>\n",
       "      <td>10</td>\n",
       "    </tr>\n",
       "    <tr>\n",
       "      <th>2</th>\n",
       "      <td>0</td>\n",
       "      <td>0</td>\n",
       "      <td>11</td>\n",
       "    </tr>\n",
       "    <tr>\n",
       "      <th>3</th>\n",
       "      <td>0</td>\n",
       "      <td>0</td>\n",
       "      <td>12</td>\n",
       "    </tr>\n",
       "    <tr>\n",
       "      <th>4</th>\n",
       "      <td>0</td>\n",
       "      <td>0</td>\n",
       "      <td>13</td>\n",
       "    </tr>\n",
       "  </tbody>\n",
       "</table>\n",
       "</div>"
      ],
      "text/plain": [
       "   up  down  image\n",
       "0   0     0      9\n",
       "1   0     0     10\n",
       "2   0     0     11\n",
       "3   0     0     12\n",
       "4   0     0     13"
      ]
     },
     "execution_count": 28,
     "metadata": {},
     "output_type": "execute_result"
    }
   ],
   "source": [
    "train = pd.read_csv(os.path.join(train_dir, csv_file))\n",
    "test = pd.read_csv(os.path.join(test_dir, csv_file))\n",
    "\n",
    "train.head()"
   ]
  },
  {
   "cell_type": "code",
   "execution_count": 50,
   "metadata": {},
   "outputs": [
    {
     "data": {
      "image/png": "[encoded data removed]",
      "text/plain": [
       "<matplotlib.figure.Figure at 0x7f0a20dd24e0>"
      ]
     },
     "metadata": {},
     "output_type": "display_data"
    }
   ],
   "source": [
    "filepath = os.path.join(train_dir, 'snaps', str(train.iat[1100,2]) )\n",
    "\n",
    "image = cv2.imread(filepath)\n",
    "image = cv2.cvtColor( image, cv2.COLOR_RGB2GRAY )\n",
    "plt.axis(\"off\")\n",
    "plt.imshow(image)\n",
    "plt.show()"
   ]
  },
  {
   "cell_type": "code",
   "execution_count": 51,
   "metadata": {},
   "outputs": [
    {
     "data": {
      "text/plain": [
       "(20, 124)"
      ]
     },
     "execution_count": 51,
     "metadata": {},
     "output_type": "execute_result"
    }
   ],
   "source": [
    "image.shape"
   ]
  },
  {
   "cell_type": "code",
   "execution_count": 95,
   "metadata": {
    "collapsed": true
   },
   "outputs": [],
   "source": [
    "temp = []\n",
    "for img_name in train.image:\n",
    "    image_path = os.path.join(train_dir, 'snaps', str(img_name) )\n",
    "    image = cv2.imread(filepath)\n",
    "    image = cv2.cvtColor(image, cv2.COLOR_RGB2GRAY)\n",
    "    image = image.astype('float32')\n",
    "    temp.append(image)\n",
    "    \n",
    "train_x = np.stack(temp)\n",
    "\n",
    "train_x /= 255.0\n",
    "train_x = train_x.reshape(-1, 20, 124, 1).astype('float32')"
   ]
  },
  {
   "cell_type": "code",
   "execution_count": 55,
   "metadata": {},
   "outputs": [],
   "source": [
    "train_y = train[['up', 'down']].as_matrix()"
   ]
  },
  {
   "cell_type": "code",
   "execution_count": 96,
   "metadata": {},
   "outputs": [],
   "source": [
    "temp = []\n",
    "for img_name in test.image:\n",
    "    image_path = os.path.join(test_dir, 'snaps', str(img_name) )\n",
    "    image = cv2.imread(filepath)\n",
    "    image = cv2.cvtColor(image, cv2.COLOR_RGB2GRAY)\n",
    "    image = image.astype('float32')\n",
    "    temp.append(image)\n",
    "    \n",
    "test_x = np.stack(temp)\n",
    "\n",
    "test_x /= 255.0\n",
    "test_x = test_x.reshape(-1, 20, 124, 1).astype('float32')"
   ]
  },
  {
   "cell_type": "code",
   "execution_count": 58,
   "metadata": {
    "collapsed": true
   },
   "outputs": [],
   "source": [
    "test_y = test[['up', 'down']].as_matrix()"
   ]
  },
  {
   "cell_type": "code",
   "execution_count": 97,
   "metadata": {},
   "outputs": [
    {
     "data": {
      "text/plain": [
       "(1904, 20, 124, 1)"
      ]
     },
     "execution_count": 97,
     "metadata": {},
     "output_type": "execute_result"
    }
   ],
   "source": [
    "train_x.shape"
   ]
  },
  {
   "cell_type": "code",
   "execution_count": 59,
   "metadata": {
    "collapsed": true
   },
   "outputs": [],
   "source": [
    "def plot_model(model_details):\n",
    "\n",
    "    # Create sub-plots\n",
    "    fig, axs = plt.subplots(1,2,figsize=(15,5))\n",
    "    \n",
    "    # Summarize history for accuracy\n",
    "    axs[0].plot(range(1,len(model_details.history['acc'])+1),model_details.history['acc'])\n",
    "    axs[0].plot(range(1,len(model_details.history['val_acc'])+1),model_details.history['val_acc'])\n",
    "    axs[0].set_title('Model Accuracy')\n",
    "    axs[0].set_ylabel('Accuracy')\n",
    "    axs[0].set_xlabel('Epoch')\n",
    "    axs[0].set_xticks(np.arange(1,len(model_details.history['acc'])+1),len(model_details.history['acc'])/10)\n",
    "    axs[0].legend(['train', 'val'], loc='best')\n",
    "    \n",
    "    # Summarize history for loss\n",
    "    axs[1].plot(range(1,len(model_details.history['loss'])+1),model_details.history['loss'])\n",
    "    axs[1].plot(range(1,len(model_details.history['val_loss'])+1),model_details.history['val_loss'])\n",
    "    axs[1].set_title('Model Loss')\n",
    "    axs[1].set_ylabel('Loss')\n",
    "    axs[1].set_xlabel('Epoch')\n",
    "    axs[1].set_xticks(np.arange(1,len(model_details.history['loss'])+1),len(model_details.history['loss'])/10)\n",
    "    axs[1].legend(['train', 'val'], loc='best')\n",
    "    \n",
    "    # Show the plot\n",
    "    plt.show()\n"
   ]
  },
  {
   "cell_type": "code",
   "execution_count": 110,
   "metadata": {},
   "outputs": [],
   "source": [
    "def pure_cnn_model():\n",
    "    \n",
    "    model = Sequential()\n",
    "    \n",
    "    model.add(Conv2D(96, (3, 3), activation='relu', padding = 'same', input_shape=(IMAGE_HEIGHT, IMAGE_WIDTH, CHANNELS)))    \n",
    "    model.add(Dropout(0.2))\n",
    "    \n",
    "    model.add(Conv2D(96, (3, 3), activation='relu', padding = 'same'))  \n",
    "    model.add(Conv2D(96, (3, 3), activation='relu', padding = 'same', strides = 2))    \n",
    "    model.add(Dropout(0.5))\n",
    "    \n",
    "    model.add(Conv2D(192, (3, 3), activation='relu', padding = 'same'))    \n",
    "    model.add(Conv2D(192, (3, 3), activation='relu', padding = 'same'))\n",
    "    model.add(Conv2D(192, (3, 3), activation='relu', padding = 'same', strides = 2))    \n",
    "    model.add(Dropout(0.5))    \n",
    "    \n",
    "    model.add(Conv2D(192, (3, 3), padding = 'same'))\n",
    "    model.add(Activation('relu'))\n",
    "    model.add(Conv2D(192, (1, 1),padding='valid'))\n",
    "    model.add(Activation('relu'))\n",
    "    model.add(Conv2D(2, (1, 1), padding='valid'))\n",
    "\n",
    "    model.add(GlobalAveragePooling2D())\n",
    "    \n",
    "    model.add(Activation('softmax'))\n",
    "\n",
    "    model.summary()\n",
    "    \n",
    "    return model"
   ]
  },
  {
   "cell_type": "code",
   "execution_count": 111,
   "metadata": {},
   "outputs": [
    {
     "name": "stdout",
     "output_type": "stream",
     "text": [
      "_________________________________________________________________\n",
      "Layer (type)                 Output Shape              Param #   \n",
      "=================================================================\n",
      "conv2d_84 (Conv2D)           (None, 20, 124, 96)       960       \n",
      "_________________________________________________________________\n",
      "dropout_28 (Dropout)         (None, 20, 124, 96)       0         \n",
      "_________________________________________________________________\n",
      "conv2d_85 (Conv2D)           (None, 20, 124, 96)       83040     \n",
      "_________________________________________________________________\n",
      "conv2d_86 (Conv2D)           (None, 10, 62, 96)        83040     \n",
      "_________________________________________________________________\n",
      "dropout_29 (Dropout)         (None, 10, 62, 96)        0         \n",
      "_________________________________________________________________\n",
      "conv2d_87 (Conv2D)           (None, 10, 62, 192)       166080    \n",
      "_________________________________________________________________\n",
      "conv2d_88 (Conv2D)           (None, 10, 62, 192)       331968    \n",
      "_________________________________________________________________\n",
      "conv2d_89 (Conv2D)           (None, 5, 31, 192)        331968    \n",
      "_________________________________________________________________\n",
      "dropout_30 (Dropout)         (None, 5, 31, 192)        0         \n",
      "_________________________________________________________________\n",
      "conv2d_90 (Conv2D)           (None, 5, 31, 192)        331968    \n",
      "_________________________________________________________________\n",
      "activation_28 (Activation)   (None, 5, 31, 192)        0         \n",
      "_________________________________________________________________\n",
      "conv2d_91 (Conv2D)           (None, 5, 31, 192)        37056     \n",
      "_________________________________________________________________\n",
      "activation_29 (Activation)   (None, 5, 31, 192)        0         \n",
      "_________________________________________________________________\n",
      "conv2d_92 (Conv2D)           (None, 5, 31, 2)          386       \n",
      "_________________________________________________________________\n",
      "global_average_pooling2d_10  (None, 2)                 0         \n",
      "_________________________________________________________________\n",
      "activation_30 (Activation)   (None, 2)                 0         \n",
      "=================================================================\n",
      "Total params: 1,366,466\n",
      "Trainable params: 1,366,466\n",
      "Non-trainable params: 0\n",
      "_________________________________________________________________\n"
     ]
    }
   ],
   "source": [
    "model = pure_cnn_model()"
   ]
  },
  {
   "cell_type": "code",
   "execution_count": 112,
   "metadata": {
    "collapsed": true
   },
   "outputs": [],
   "source": [
    "checkpoint = ModelCheckpoint('best_model_improved.h5',  # model filename\n",
    "                             monitor='val_loss', # quantity to monitor\n",
    "                             verbose=0, # verbosity - 0 or 1\n",
    "                             save_best_only= True, # The latest best model will not be overwritten\n",
    "                             mode='auto') # The decision to overwrite model is made \n",
    "                                          # automatically depending on the quantity to monitor "
   ]
  },
  {
   "cell_type": "code",
   "execution_count": 113,
   "metadata": {
    "collapsed": true
   },
   "outputs": [],
   "source": [
    "model.compile(loss='categorical_crossentropy', # Better loss function for neural networks\n",
    "              optimizer=Adam(lr=LEARN_RATE), # Adam optimizer with 1.0e-4 learning rate\n",
    "              metrics = ['accuracy']) # Metrics to be evaluated by the model"
   ]
  },
  {
   "cell_type": "code",
   "execution_count": 114,
   "metadata": {},
   "outputs": [
    {
     "name": "stdout",
     "output_type": "stream",
     "text": [
      "Train on 1904 samples, validate on 1102 samples\n",
      "Epoch 1/15\n",
      "1904/1904 [==============================] - 74s - loss: 0.1515 - acc: 0.9217 - val_loss: 0.1387 - val_acc: 0.9646\n",
      "Epoch 2/15\n",
      "1904/1904 [==============================] - 72s - loss: 0.1446 - acc: 0.9217 - val_loss: 0.1227 - val_acc: 0.9646\n",
      "Epoch 3/15\n",
      "1904/1904 [==============================] - 72s - loss: 0.1447 - acc: 0.9217 - val_loss: 0.1256 - val_acc: 0.9646\n",
      "Epoch 4/15\n",
      "1904/1904 [==============================] - 72s - loss: 0.1455 - acc: 0.9217 - val_loss: 0.1350 - val_acc: 0.9646\n",
      "Epoch 5/15\n",
      "1904/1904 [==============================] - 72s - loss: 0.1455 - acc: 0.9217 - val_loss: 0.1302 - val_acc: 0.9646\n",
      "Epoch 6/15\n",
      "1904/1904 [==============================] - 72s - loss: 0.1444 - acc: 0.9217 - val_loss: 0.1239 - val_acc: 0.9646\n",
      "Epoch 7/15\n",
      "1904/1904 [==============================] - 72s - loss: 0.1443 - acc: 0.9217 - val_loss: 0.1243 - val_acc: 0.9646\n",
      "Epoch 8/15\n",
      "1904/1904 [==============================] - 72s - loss: 0.1448 - acc: 0.9217 - val_loss: 0.1292 - val_acc: 0.9646\n",
      "Epoch 9/15\n",
      "1904/1904 [==============================] - 72s - loss: 0.1449 - acc: 0.9217 - val_loss: 0.1273 - val_acc: 0.9646\n",
      "Epoch 10/15\n",
      "1904/1904 [==============================] - 72s - loss: 0.1444 - acc: 0.9217 - val_loss: 0.1236 - val_acc: 0.9646\n",
      "Epoch 11/15\n",
      "1904/1904 [==============================] - 72s - loss: 0.1450 - acc: 0.9217 - val_loss: 0.1306 - val_acc: 0.9646\n",
      "Epoch 12/15\n",
      "1904/1904 [==============================] - 72s - loss: 0.1455 - acc: 0.9217 - val_loss: 0.1252 - val_acc: 0.9646\n",
      "Epoch 13/15\n",
      "1904/1904 [==============================] - 72s - loss: 0.1441 - acc: 0.9217 - val_loss: 0.1283 - val_acc: 0.9646\n",
      "Epoch 14/15\n",
      "1904/1904 [==============================] - 72s - loss: 0.1443 - acc: 0.9217 - val_loss: 0.1280 - val_acc: 0.9646\n",
      "Epoch 15/15\n",
      "1904/1904 [==============================] - 72s - loss: 0.1440 - acc: 0.9217 - val_loss: 0.1190 - val_acc: 0.9646\n"
     ]
    }
   ],
   "source": [
    "model_details = model.fit(train_x, train_y,\n",
    "                    batch_size = 128,\n",
    "                    epochs = NUM_EPOCH, # number of iterations\n",
    "                    validation_data= (test_x, test_y),\n",
    "                    callbacks=[checkpoint],\n",
    "                    verbose=1)"
   ]
  },
  {
   "cell_type": "code",
   "execution_count": 116,
   "metadata": {},
   "outputs": [
    {
     "name": "stdout",
     "output_type": "stream",
     "text": [
      "Accuracy: 96.46%\n"
     ]
    }
   ],
   "source": [
    "scores = model.evaluate(test_x, test_y, verbose=0)\n",
    "print(\"Accuracy: %.2f%%\" % (scores[1]*100))"
   ]
  },
  {
   "cell_type": "code",
   "execution_count": 117,
   "metadata": {},
   "outputs": [
    {
     "data": {
      "image/png": "[encoded data removed]",
      "text/plain": [
       "<matplotlib.figure.Figure at 0x7f0a09656940>"
      ]
     },
     "metadata": {},
     "output_type": "display_data"
    }
   ],
   "source": [
    "plot_model(model_details)"
   ]
  },
  {
   "cell_type": "code",
   "execution_count": null,
   "metadata": {
    "collapsed": true
   },
   "outputs": [],
   "source": []
  }
 ],
 "metadata": {
  "kernelspec": {
   "display_name": "Python 3",
   "language": "python",
   "name": "python3"
  },
  "language_info": {
   "codemirror_mode": {
    "name": "ipython",
    "version": 3
   },
   "file_extension": ".py",
   "mimetype": "text/x-python",
   "name": "python",
   "nbconvert_exporter": "python",
   "pygments_lexer": "ipython3",
   "version": "3.5.2"
  }
 },
 "nbformat": 4,
 "nbformat_minor": 2
}
